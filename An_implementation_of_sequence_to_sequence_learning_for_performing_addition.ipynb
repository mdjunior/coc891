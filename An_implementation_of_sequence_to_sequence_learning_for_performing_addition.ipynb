{
  "nbformat": 4,
  "nbformat_minor": 0,
  "metadata": {
    "colab": {
      "name": "An implementation of sequence to sequence learning for performing addition.ipynb",
      "provenance": [],
      "collapsed_sections": []
    },
    "kernelspec": {
      "name": "python3",
      "display_name": "Python 3"
    },
    "accelerator": "GPU"
  },
  "cells": [
    {
      "cell_type": "markdown",
      "metadata": {
        "id": "yedI8U612CjU",
        "colab_type": "text"
      },
      "source": [
        "# An implementation of sequence to sequence learning for performing addition\n",
        "Input: \"535+61\"\n",
        "Output: \"596\"\n",
        "Padding is handled by using a repeated sentinel character (space)\n",
        "\n",
        "Fonte: https://github.com/keras-team/keras/blob/master/examples/addition_rnn.py"
      ]
    },
    {
      "cell_type": "code",
      "metadata": {
        "id": "ENcIKVKU2flf",
        "colab_type": "code",
        "colab": {}
      },
      "source": [
        "# Parameters for the model and dataset.\n",
        "TRAINING_SIZE = 600000\n",
        "DIGITS = 10\n",
        "REVERSE = True\n",
        "\n",
        "# Maximum length of input is 'int + int' (e.g., '345+678'). Maximum length of\n",
        "# int is DIGITS.\n",
        "MAXLEN = DIGITS + 1 + DIGITS\n",
        "\n",
        "# All the numbers, plus sign and space for padding.\n",
        "chars = '0123456789+ '\n",
        "ctable = CharacterTable(chars)"
      ],
      "execution_count": 0,
      "outputs": []
    },
    {
      "cell_type": "code",
      "metadata": {
        "id": "5lNCvna12HyH",
        "colab_type": "code",
        "outputId": "ef4baf64-ac2e-4f34-984d-7f03b06a720d",
        "colab": {
          "base_uri": "https://localhost:8080/",
          "height": 34
        }
      },
      "source": [
        "from __future__ import print_function\n",
        "from keras.models import Sequential\n",
        "from keras import layers\n",
        "import numpy as np\n",
        "from six.moves import range"
      ],
      "execution_count": 0,
      "outputs": [
        {
          "output_type": "stream",
          "text": [
            "Using TensorFlow backend.\n"
          ],
          "name": "stderr"
        }
      ]
    },
    {
      "cell_type": "code",
      "metadata": {
        "id": "h4qnABtj2Z0D",
        "colab_type": "code",
        "colab": {}
      },
      "source": [
        "class CharacterTable(object):\n",
        "    \"\"\"Given a set of characters:\n",
        "    + Encode them to a one-hot integer representation\n",
        "    + Decode the one-hot or integer representation to their character output\n",
        "    + Decode a vector of probabilities to their character output\n",
        "    \"\"\"\n",
        "    def __init__(self, chars):\n",
        "        \"\"\"Initialize character table.\n",
        "        # Arguments\n",
        "            chars: Characters that can appear in the input.\n",
        "        \"\"\"\n",
        "        self.chars = sorted(set(chars))\n",
        "        self.char_indices = dict((c, i) for i, c in enumerate(self.chars))\n",
        "        self.indices_char = dict((i, c) for i, c in enumerate(self.chars))\n",
        "\n",
        "    def encode(self, C, num_rows):\n",
        "        \"\"\"One-hot encode given string C.\n",
        "        # Arguments\n",
        "            C: string, to be encoded.\n",
        "            num_rows: Number of rows in the returned one-hot encoding. This is\n",
        "                used to keep the # of rows for each data the same.\n",
        "        \"\"\"\n",
        "        x = np.zeros((num_rows, len(self.chars)))\n",
        "        for i, c in enumerate(C):\n",
        "            x[i, self.char_indices[c]] = 1\n",
        "        return x\n",
        "\n",
        "    def decode(self, x, calc_argmax=True):\n",
        "        \"\"\"Decode the given vector or 2D array to their character output.\n",
        "        # Arguments\n",
        "            x: A vector or a 2D array of probabilities or one-hot representations;\n",
        "                or a vector of character indices (used with `calc_argmax=False`).\n",
        "            calc_argmax: Whether to find the character index with maximum\n",
        "                probability, defaults to `True`.\n",
        "        \"\"\"\n",
        "        if calc_argmax:\n",
        "            x = x.argmax(axis=-1)\n",
        "        return ''.join(self.indices_char[x] for x in x)\n",
        "class colors:\n",
        "    ok = '\\033[92m'\n",
        "    fail = '\\033[91m'\n",
        "    close = '\\033[0m'"
      ],
      "execution_count": 0,
      "outputs": []
    },
    {
      "cell_type": "code",
      "metadata": {
        "id": "ySdmXz7O2o8t",
        "colab_type": "code",
        "outputId": "efc88b61-d5f1-4b1e-91a2-0408aedaaaa0",
        "colab": {
          "base_uri": "https://localhost:8080/",
          "height": 51
        }
      },
      "source": [
        "questions = []\n",
        "expected = []\n",
        "seen = set()\n",
        "print('Generating data...')\n",
        "while len(questions) < TRAINING_SIZE:\n",
        "    f = lambda: int(''.join(np.random.choice(list('0123456789'))\n",
        "                    for i in range(np.random.randint(1, DIGITS + 1))))\n",
        "    a, b = f(), f()\n",
        "    # Skip any addition questions we've already seen\n",
        "    # Also skip any such that x+Y == Y+x (hence the sorting).\n",
        "    key = tuple(sorted((a, b)))\n",
        "    if key in seen:\n",
        "        continue\n",
        "    seen.add(key)\n",
        "    # Pad the data with spaces such that it is always MAXLEN.\n",
        "    q = '{}+{}'.format(a, b)\n",
        "    query = q + ' ' * (MAXLEN - len(q))\n",
        "    ans = str(a + b)\n",
        "    # Answers can be of maximum size DIGITS + 1.\n",
        "    ans += ' ' * (DIGITS + 1 - len(ans))\n",
        "    if REVERSE:\n",
        "        # Reverse the query, e.g., '12+345  ' becomes '  543+21'. (Note the\n",
        "        # space used for padding.)\n",
        "        query = query[::-1]\n",
        "    questions.append(query)\n",
        "    expected.append(ans)\n",
        "print('Total addition questions:', len(questions))"
      ],
      "execution_count": 0,
      "outputs": [
        {
          "output_type": "stream",
          "text": [
            "Generating data...\n",
            "Total addition questions: 600000\n"
          ],
          "name": "stdout"
        }
      ]
    },
    {
      "cell_type": "code",
      "metadata": {
        "id": "Xlfr_aaQ2tm0",
        "colab_type": "code",
        "outputId": "13457b8f-d561-46bb-90b9-4103bd6203e0",
        "colab": {
          "base_uri": "https://localhost:8080/",
          "height": 34
        }
      },
      "source": [
        "print('Vectorization...')\n",
        "x = np.zeros((len(questions), MAXLEN, len(chars)), dtype=np.bool)\n",
        "y = np.zeros((len(questions), DIGITS + 1, len(chars)), dtype=np.bool)\n",
        "for i, sentence in enumerate(questions):\n",
        "    x[i] = ctable.encode(sentence, MAXLEN)\n",
        "for i, sentence in enumerate(expected):\n",
        "    y[i] = ctable.encode(sentence, DIGITS + 1)"
      ],
      "execution_count": 0,
      "outputs": [
        {
          "output_type": "stream",
          "text": [
            "Vectorization...\n"
          ],
          "name": "stdout"
        }
      ]
    },
    {
      "cell_type": "code",
      "metadata": {
        "id": "0UjUVQKB2yTf",
        "colab_type": "code",
        "colab": {}
      },
      "source": [
        "# Shuffle (x, y) in unison as the later parts of x will almost all be larger\n",
        "# digits.\n",
        "indices = np.arange(len(y))\n",
        "np.random.shuffle(indices)\n",
        "x = x[indices]\n",
        "y = y[indices]"
      ],
      "execution_count": 0,
      "outputs": []
    },
    {
      "cell_type": "code",
      "metadata": {
        "id": "XccIQiJZ21c8",
        "colab_type": "code",
        "colab": {}
      },
      "source": [
        "# Explicitly set apart 10% for validation data that we never train over.\n",
        "split_at = len(x) - len(x) // 10\n",
        "(x_train, x_val) = x[:split_at], x[split_at:]\n",
        "(y_train, y_val) = y[:split_at], y[split_at:]"
      ],
      "execution_count": 0,
      "outputs": []
    },
    {
      "cell_type": "code",
      "metadata": {
        "id": "r2_ajf61241k",
        "colab_type": "code",
        "outputId": "d076ddc3-442c-4871-a5e2-f7e522e3db3f",
        "colab": {
          "base_uri": "https://localhost:8080/",
          "height": 68
        }
      },
      "source": [
        "print('Training Data:')\n",
        "print(x_train.shape)\n",
        "print(y_train.shape)\n"
      ],
      "execution_count": 0,
      "outputs": [
        {
          "output_type": "stream",
          "text": [
            "Training Data:\n",
            "(540000, 21, 12)\n",
            "(540000, 11, 12)\n"
          ],
          "name": "stdout"
        }
      ]
    },
    {
      "cell_type": "code",
      "metadata": {
        "id": "pBCFH7am270z",
        "colab_type": "code",
        "outputId": "b96c93a1-448a-46dd-e626-7117a24093c2",
        "colab": {
          "base_uri": "https://localhost:8080/",
          "height": 68
        }
      },
      "source": [
        "print('Validation Data:')\n",
        "print(x_val.shape)\n",
        "print(y_val.shape)"
      ],
      "execution_count": 0,
      "outputs": [
        {
          "output_type": "stream",
          "text": [
            "Validation Data:\n",
            "(60000, 21, 12)\n",
            "(60000, 11, 12)\n"
          ],
          "name": "stdout"
        }
      ]
    },
    {
      "cell_type": "code",
      "metadata": {
        "id": "wOs9eDfB2-mL",
        "colab_type": "code",
        "colab": {}
      },
      "source": [
        "# Try replacing GRU, or SimpleRNN.\n",
        "RNN = layers.LSTM\n",
        "HIDDEN_SIZE = 128\n",
        "BATCH_SIZE = 128\n",
        "LAYERS = 1\n"
      ],
      "execution_count": 0,
      "outputs": []
    },
    {
      "cell_type": "code",
      "metadata": {
        "id": "1f_jFTg13Dy1",
        "colab_type": "code",
        "outputId": "3f1d25de-f568-4924-ae98-fdadffe0be0e",
        "colab": {
          "base_uri": "https://localhost:8080/",
          "height": 476
        }
      },
      "source": [
        "print('Build model...')\n",
        "model = Sequential()\n",
        "# \"Encode\" the input sequence using an RNN, producing an output of HIDDEN_SIZE.\n",
        "# Note: In a situation where your input sequences have a variable length,\n",
        "# use input_shape=(None, num_feature).\n",
        "model.add(RNN(HIDDEN_SIZE, input_shape=(MAXLEN, len(chars))))\n",
        "# As the decoder RNN's input, repeatedly provide with the last output of\n",
        "# RNN for each time step. Repeat 'DIGITS + 1' times as that's the maximum\n",
        "# length of output, e.g., when DIGITS=3, max output is 999+999=1998.\n",
        "model.add(layers.RepeatVector(DIGITS + 1))\n",
        "# The decoder RNN could be multiple layers stacked or a single layer.\n",
        "for _ in range(LAYERS):\n",
        "    # By setting return_sequences to True, return not only the last output but\n",
        "    # all the outputs so far in the form of (num_samples, timesteps,\n",
        "    # output_dim). This is necessary as TimeDistributed in the below expects\n",
        "    # the first dimension to be the timesteps.\n",
        "    model.add(RNN(HIDDEN_SIZE, return_sequences=True))\n",
        "\n",
        "# Apply a dense layer to the every temporal slice of an input. For each of step\n",
        "# of the output sequence, decide which character should be chosen.\n",
        "model.add(layers.TimeDistributed(layers.Dense(len(chars), activation='softmax')))\n",
        "model.compile(loss='categorical_crossentropy',\n",
        "              optimizer='adam',\n",
        "              metrics=['accuracy'])\n",
        "model.summary()"
      ],
      "execution_count": 0,
      "outputs": [
        {
          "output_type": "stream",
          "text": [
            "Build model...\n",
            "WARNING:tensorflow:From /usr/local/lib/python3.6/dist-packages/keras/backend/tensorflow_backend.py:66: The name tf.get_default_graph is deprecated. Please use tf.compat.v1.get_default_graph instead.\n",
            "\n",
            "WARNING:tensorflow:From /usr/local/lib/python3.6/dist-packages/keras/backend/tensorflow_backend.py:541: The name tf.placeholder is deprecated. Please use tf.compat.v1.placeholder instead.\n",
            "\n",
            "WARNING:tensorflow:From /usr/local/lib/python3.6/dist-packages/keras/backend/tensorflow_backend.py:4432: The name tf.random_uniform is deprecated. Please use tf.random.uniform instead.\n",
            "\n",
            "WARNING:tensorflow:From /usr/local/lib/python3.6/dist-packages/keras/optimizers.py:793: The name tf.train.Optimizer is deprecated. Please use tf.compat.v1.train.Optimizer instead.\n",
            "\n",
            "WARNING:tensorflow:From /usr/local/lib/python3.6/dist-packages/keras/backend/tensorflow_backend.py:3576: The name tf.log is deprecated. Please use tf.math.log instead.\n",
            "\n",
            "Model: \"sequential_1\"\n",
            "_________________________________________________________________\n",
            "Layer (type)                 Output Shape              Param #   \n",
            "=================================================================\n",
            "lstm_1 (LSTM)                (None, 128)               72192     \n",
            "_________________________________________________________________\n",
            "repeat_vector_1 (RepeatVecto (None, 11, 128)           0         \n",
            "_________________________________________________________________\n",
            "lstm_2 (LSTM)                (None, 11, 128)           131584    \n",
            "_________________________________________________________________\n",
            "time_distributed_1 (TimeDist (None, 11, 12)            1548      \n",
            "=================================================================\n",
            "Total params: 205,324\n",
            "Trainable params: 205,324\n",
            "Non-trainable params: 0\n",
            "_________________________________________________________________\n"
          ],
          "name": "stdout"
        }
      ]
    },
    {
      "cell_type": "code",
      "metadata": {
        "id": "MXjlrKes3Syp",
        "colab_type": "code",
        "outputId": "3d4209d3-a901-40da-8464-26e484389de0",
        "colab": {
          "base_uri": "https://localhost:8080/",
          "height": 1000
        }
      },
      "source": [
        "# Train the model each generation and show predictions against the validation\n",
        "# dataset.\n",
        "print()\n",
        "print('-' * 50)\n",
        "\n",
        "from keras.callbacks import EarlyStopping\n",
        "early_stop = EarlyStopping(monitor='val_loss', patience=10, verbose=1)\n",
        "\n",
        "history = model.fit(x_train, y_train,\n",
        "          batch_size=BATCH_SIZE,\n",
        "          epochs=100,\n",
        "          validation_data=(x_val, y_val),\n",
        "          callbacks=[early_stop]\n",
        "          )\n"
      ],
      "execution_count": 0,
      "outputs": [
        {
          "output_type": "stream",
          "text": [
            "\n",
            "--------------------------------------------------\n",
            "WARNING:tensorflow:From /usr/local/lib/python3.6/dist-packages/tensorflow/python/ops/math_grad.py:1250: add_dispatch_support.<locals>.wrapper (from tensorflow.python.ops.array_ops) is deprecated and will be removed in a future version.\n",
            "Instructions for updating:\n",
            "Use tf.where in 2.0, which has the same broadcast rule as np.where\n",
            "WARNING:tensorflow:From /usr/local/lib/python3.6/dist-packages/keras/backend/tensorflow_backend.py:1033: The name tf.assign_add is deprecated. Please use tf.compat.v1.assign_add instead.\n",
            "\n",
            "Train on 540000 samples, validate on 60000 samples\n",
            "Epoch 1/100\n",
            "540000/540000 [==============================] - 320s 593us/step - loss: 1.2586 - acc: 0.5249 - val_loss: 0.9851 - val_acc: 0.6216\n",
            "Epoch 2/100\n",
            "540000/540000 [==============================] - 318s 590us/step - loss: 0.8943 - acc: 0.6557 - val_loss: 0.8251 - val_acc: 0.6807\n",
            "Epoch 3/100\n",
            "540000/540000 [==============================] - 319s 590us/step - loss: 0.7890 - acc: 0.6958 - val_loss: 0.7499 - val_acc: 0.7109\n",
            "Epoch 4/100\n",
            "540000/540000 [==============================] - 316s 586us/step - loss: 0.7250 - acc: 0.7200 - val_loss: 0.6997 - val_acc: 0.7310\n",
            "Epoch 5/100\n",
            "540000/540000 [==============================] - 317s 586us/step - loss: 0.6501 - acc: 0.7484 - val_loss: 0.6160 - val_acc: 0.7627\n",
            "Epoch 6/100\n",
            "540000/540000 [==============================] - 318s 589us/step - loss: 0.5922 - acc: 0.7715 - val_loss: 0.5634 - val_acc: 0.7822\n",
            "Epoch 7/100\n",
            "540000/540000 [==============================] - 317s 587us/step - loss: 0.5267 - acc: 0.7961 - val_loss: 0.4917 - val_acc: 0.8082\n",
            "Epoch 8/100\n",
            "540000/540000 [==============================] - 317s 586us/step - loss: 0.4416 - acc: 0.8289 - val_loss: 0.3907 - val_acc: 0.8489\n",
            "Epoch 9/100\n",
            "540000/540000 [==============================] - 316s 586us/step - loss: 0.3461 - acc: 0.8665 - val_loss: 0.2984 - val_acc: 0.8857\n",
            "Epoch 10/100\n",
            "540000/540000 [==============================] - 317s 586us/step - loss: 0.2642 - acc: 0.8992 - val_loss: 0.2228 - val_acc: 0.9156\n",
            "Epoch 11/100\n",
            "540000/540000 [==============================] - 316s 586us/step - loss: 0.2031 - acc: 0.9235 - val_loss: 0.1809 - val_acc: 0.9319\n",
            "Epoch 12/100\n",
            "540000/540000 [==============================] - 316s 586us/step - loss: 0.1623 - acc: 0.9396 - val_loss: 0.1426 - val_acc: 0.9472\n",
            "Epoch 13/100\n",
            "540000/540000 [==============================] - 313s 580us/step - loss: 0.1335 - acc: 0.9509 - val_loss: 0.1162 - val_acc: 0.9573\n",
            "Epoch 14/100\n",
            "540000/540000 [==============================] - 312s 578us/step - loss: 0.1170 - acc: 0.9573 - val_loss: 0.1290 - val_acc: 0.9519\n",
            "Epoch 15/100\n",
            "540000/540000 [==============================] - 312s 577us/step - loss: 0.1080 - acc: 0.9609 - val_loss: 0.0981 - val_acc: 0.9639\n",
            "Epoch 16/100\n",
            "540000/540000 [==============================] - 311s 576us/step - loss: 0.0979 - acc: 0.9645 - val_loss: 0.1135 - val_acc: 0.9589\n",
            "Epoch 17/100\n",
            "540000/540000 [==============================] - 312s 578us/step - loss: 0.0916 - acc: 0.9667 - val_loss: 0.0824 - val_acc: 0.9699\n",
            "Epoch 18/100\n",
            "540000/540000 [==============================] - 313s 580us/step - loss: 0.0874 - acc: 0.9682 - val_loss: 0.0835 - val_acc: 0.9695\n",
            "Epoch 19/100\n",
            "540000/540000 [==============================] - 313s 579us/step - loss: 0.0840 - acc: 0.9694 - val_loss: 0.0847 - val_acc: 0.9688\n",
            "Epoch 20/100\n",
            "540000/540000 [==============================] - 315s 583us/step - loss: 0.0809 - acc: 0.9706 - val_loss: 0.1151 - val_acc: 0.9634\n",
            "Epoch 21/100\n",
            "540000/540000 [==============================] - 316s 586us/step - loss: 0.0775 - acc: 0.9717 - val_loss: 0.1083 - val_acc: 0.9620\n",
            "Epoch 22/100\n",
            "540000/540000 [==============================] - 316s 586us/step - loss: 0.0736 - acc: 0.9731 - val_loss: 0.0774 - val_acc: 0.9713\n",
            "Epoch 23/100\n",
            "540000/540000 [==============================] - 318s 589us/step - loss: 0.0740 - acc: 0.9731 - val_loss: 0.0749 - val_acc: 0.9721\n",
            "Epoch 24/100\n",
            "540000/540000 [==============================] - 316s 586us/step - loss: 0.0721 - acc: 0.9738 - val_loss: 0.0677 - val_acc: 0.9749\n",
            "Epoch 25/100\n",
            "540000/540000 [==============================] - 318s 588us/step - loss: 0.0697 - acc: 0.9746 - val_loss: 0.0637 - val_acc: 0.9766\n",
            "Epoch 26/100\n",
            "540000/540000 [==============================] - 316s 586us/step - loss: 0.0682 - acc: 0.9751 - val_loss: 0.0703 - val_acc: 0.9737\n",
            "Epoch 27/100\n",
            "540000/540000 [==============================] - 313s 579us/step - loss: 0.0682 - acc: 0.9752 - val_loss: 0.0592 - val_acc: 0.9779\n",
            "Epoch 28/100\n",
            "540000/540000 [==============================] - 312s 578us/step - loss: 0.0643 - acc: 0.9763 - val_loss: 0.0636 - val_acc: 0.9764\n",
            "Epoch 29/100\n",
            "540000/540000 [==============================] - 315s 583us/step - loss: 0.0667 - acc: 0.9758 - val_loss: 0.0600 - val_acc: 0.9776\n",
            "Epoch 30/100\n",
            "540000/540000 [==============================] - 313s 580us/step - loss: 0.0642 - acc: 0.9765 - val_loss: 0.0630 - val_acc: 0.9768\n",
            "Epoch 31/100\n",
            "540000/540000 [==============================] - 312s 579us/step - loss: 0.0632 - acc: 0.9769 - val_loss: 0.0561 - val_acc: 0.9791\n",
            "Epoch 32/100\n",
            "540000/540000 [==============================] - 311s 576us/step - loss: 0.0613 - acc: 0.9774 - val_loss: 0.0597 - val_acc: 0.9777\n",
            "Epoch 33/100\n",
            "540000/540000 [==============================] - 318s 588us/step - loss: 0.0621 - acc: 0.9774 - val_loss: 0.0575 - val_acc: 0.9784\n",
            "Epoch 34/100\n",
            "540000/540000 [==============================] - 317s 588us/step - loss: 0.0602 - acc: 0.9779 - val_loss: 0.0591 - val_acc: 0.9780\n",
            "Epoch 35/100\n",
            "540000/540000 [==============================] - 317s 586us/step - loss: 0.0615 - acc: 0.9778 - val_loss: 0.0600 - val_acc: 0.9778\n",
            "Epoch 36/100\n",
            "540000/540000 [==============================] - 319s 591us/step - loss: 0.0589 - acc: 0.9783 - val_loss: 0.0579 - val_acc: 0.9783\n",
            "Epoch 37/100\n",
            "540000/540000 [==============================] - 316s 585us/step - loss: 0.0590 - acc: 0.9783 - val_loss: 0.0554 - val_acc: 0.9793\n",
            "Epoch 38/100\n",
            "540000/540000 [==============================] - 314s 581us/step - loss: 0.0573 - acc: 0.9789 - val_loss: 0.0579 - val_acc: 0.9785\n",
            "Epoch 39/100\n",
            "540000/540000 [==============================] - 313s 580us/step - loss: 0.0564 - acc: 0.9791 - val_loss: 0.0554 - val_acc: 0.9793\n",
            "Epoch 40/100\n",
            "540000/540000 [==============================] - 313s 580us/step - loss: 0.0566 - acc: 0.9793 - val_loss: 0.0540 - val_acc: 0.9797\n",
            "Epoch 41/100\n",
            "540000/540000 [==============================] - 312s 578us/step - loss: 0.0534 - acc: 0.9800 - val_loss: 0.0549 - val_acc: 0.9792\n",
            "Epoch 42/100\n",
            "540000/540000 [==============================] - 316s 585us/step - loss: 0.0491 - acc: 0.9812 - val_loss: 0.0499 - val_acc: 0.9807\n",
            "Epoch 43/100\n",
            "540000/540000 [==============================] - 320s 592us/step - loss: 0.0453 - acc: 0.9824 - val_loss: 0.0427 - val_acc: 0.9829\n",
            "Epoch 44/100\n",
            "540000/540000 [==============================] - 321s 595us/step - loss: 0.0422 - acc: 0.9832 - val_loss: 0.0452 - val_acc: 0.9825\n",
            "Epoch 45/100\n",
            "540000/540000 [==============================] - 316s 585us/step - loss: 0.0442 - acc: 0.9830 - val_loss: 0.0382 - val_acc: 0.9847\n",
            "Epoch 46/100\n",
            "540000/540000 [==============================] - 313s 579us/step - loss: 0.0404 - acc: 0.9841 - val_loss: 0.0388 - val_acc: 0.9842\n",
            "Epoch 47/100\n",
            "540000/540000 [==============================] - 316s 585us/step - loss: 0.0413 - acc: 0.9840 - val_loss: 0.0359 - val_acc: 0.9852\n",
            "Epoch 48/100\n",
            "540000/540000 [==============================] - 312s 578us/step - loss: 0.0400 - acc: 0.9845 - val_loss: 0.0804 - val_acc: 0.9731\n",
            "Epoch 49/100\n",
            "540000/540000 [==============================] - 318s 589us/step - loss: 0.0381 - acc: 0.9851 - val_loss: 0.0386 - val_acc: 0.9847\n",
            "Epoch 50/100\n",
            "540000/540000 [==============================] - 321s 595us/step - loss: 0.0354 - acc: 0.9859 - val_loss: 0.0362 - val_acc: 0.9857\n",
            "Epoch 51/100\n",
            "540000/540000 [==============================] - 315s 583us/step - loss: 0.0358 - acc: 0.9860 - val_loss: 0.0373 - val_acc: 0.9855\n",
            "Epoch 52/100\n",
            "540000/540000 [==============================] - 314s 582us/step - loss: 0.0359 - acc: 0.9864 - val_loss: 0.0384 - val_acc: 0.9853\n",
            "Epoch 53/100\n",
            "540000/540000 [==============================] - 315s 583us/step - loss: 0.0379 - acc: 0.9861 - val_loss: 0.0342 - val_acc: 0.9870\n",
            "Epoch 54/100\n",
            "540000/540000 [==============================] - 313s 579us/step - loss: 0.0311 - acc: 0.9883 - val_loss: 0.0311 - val_acc: 0.9885\n",
            "Epoch 55/100\n",
            "540000/540000 [==============================] - 312s 578us/step - loss: 0.0301 - acc: 0.9893 - val_loss: 0.0291 - val_acc: 0.9895\n",
            "Epoch 56/100\n",
            "540000/540000 [==============================] - 314s 582us/step - loss: 0.0307 - acc: 0.9895 - val_loss: 0.0255 - val_acc: 0.9905\n",
            "Epoch 57/100\n",
            "540000/540000 [==============================] - 317s 587us/step - loss: 0.0261 - acc: 0.9907 - val_loss: 0.0261 - val_acc: 0.9906\n",
            "Epoch 58/100\n",
            "540000/540000 [==============================] - 323s 597us/step - loss: 0.0251 - acc: 0.9910 - val_loss: 0.0272 - val_acc: 0.9905\n",
            "Epoch 59/100\n",
            "540000/540000 [==============================] - 320s 593us/step - loss: 0.0242 - acc: 0.9914 - val_loss: 0.0252 - val_acc: 0.9908\n",
            "Epoch 60/100\n",
            "540000/540000 [==============================] - 314s 582us/step - loss: 0.0244 - acc: 0.9913 - val_loss: 0.0394 - val_acc: 0.9871\n",
            "Epoch 61/100\n",
            "540000/540000 [==============================] - 314s 582us/step - loss: 0.0230 - acc: 0.9916 - val_loss: 0.0232 - val_acc: 0.9915\n",
            "Epoch 62/100\n",
            "540000/540000 [==============================] - 315s 583us/step - loss: 0.0238 - acc: 0.9915 - val_loss: 0.0220 - val_acc: 0.9920\n",
            "Epoch 63/100\n",
            "540000/540000 [==============================] - 314s 581us/step - loss: 0.0285 - acc: 0.9904 - val_loss: 0.0238 - val_acc: 0.9918\n",
            "Epoch 64/100\n",
            "540000/540000 [==============================] - 313s 579us/step - loss: 0.0225 - acc: 0.9920 - val_loss: 0.0240 - val_acc: 0.9912\n",
            "Epoch 65/100\n",
            "540000/540000 [==============================] - 312s 578us/step - loss: 0.0247 - acc: 0.9914 - val_loss: 0.0218 - val_acc: 0.9920\n",
            "Epoch 66/100\n",
            "540000/540000 [==============================] - 313s 580us/step - loss: 0.0267 - acc: 0.9909 - val_loss: 0.0415 - val_acc: 0.9870\n",
            "Epoch 67/100\n",
            "540000/540000 [==============================] - 315s 584us/step - loss: 0.0211 - acc: 0.9924 - val_loss: 0.0238 - val_acc: 0.9913\n",
            "Epoch 68/100\n",
            "540000/540000 [==============================] - 316s 585us/step - loss: 0.0224 - acc: 0.9920 - val_loss: 0.0205 - val_acc: 0.9925\n",
            "Epoch 69/100\n",
            "540000/540000 [==============================] - 317s 587us/step - loss: 0.0231 - acc: 0.9918 - val_loss: 0.0213 - val_acc: 0.9923\n",
            "Epoch 70/100\n",
            "540000/540000 [==============================] - 316s 584us/step - loss: 0.0219 - acc: 0.9922 - val_loss: 0.0217 - val_acc: 0.9922\n",
            "Epoch 71/100\n",
            "540000/540000 [==============================] - 317s 586us/step - loss: 0.0253 - acc: 0.9916 - val_loss: 0.0323 - val_acc: 0.9888\n",
            "Epoch 72/100\n",
            "540000/540000 [==============================] - 317s 586us/step - loss: 0.0216 - acc: 0.9923 - val_loss: 0.0212 - val_acc: 0.9922\n",
            "Epoch 73/100\n",
            "540000/540000 [==============================] - 317s 586us/step - loss: 0.0229 - acc: 0.9919 - val_loss: 0.0229 - val_acc: 0.9918\n",
            "Epoch 74/100\n",
            "540000/540000 [==============================] - 315s 583us/step - loss: 0.0202 - acc: 0.9926 - val_loss: 0.0218 - val_acc: 0.9921\n",
            "Epoch 75/100\n",
            "540000/540000 [==============================] - 309s 573us/step - loss: 0.0227 - acc: 0.9920 - val_loss: 0.0192 - val_acc: 0.9930\n",
            "Epoch 76/100\n",
            "540000/540000 [==============================] - 311s 576us/step - loss: 0.0222 - acc: 0.9924 - val_loss: 0.0199 - val_acc: 0.9926\n",
            "Epoch 77/100\n",
            "540000/540000 [==============================] - 315s 583us/step - loss: 0.0206 - acc: 0.9925 - val_loss: 0.0211 - val_acc: 0.9923\n",
            "Epoch 78/100\n",
            "540000/540000 [==============================] - 313s 580us/step - loss: 0.0207 - acc: 0.9925 - val_loss: 0.0211 - val_acc: 0.9924\n",
            "Epoch 79/100\n",
            "540000/540000 [==============================] - 317s 587us/step - loss: 0.0211 - acc: 0.9924 - val_loss: 0.0222 - val_acc: 0.9921\n",
            "Epoch 80/100\n",
            "540000/540000 [==============================] - 319s 591us/step - loss: 0.0200 - acc: 0.9928 - val_loss: 0.0361 - val_acc: 0.9880\n",
            "Epoch 81/100\n",
            "540000/540000 [==============================] - 320s 593us/step - loss: 0.0207 - acc: 0.9926 - val_loss: 0.0188 - val_acc: 0.9929\n",
            "Epoch 82/100\n",
            "540000/540000 [==============================] - 320s 593us/step - loss: 0.0192 - acc: 0.9929 - val_loss: 0.0213 - val_acc: 0.9922\n",
            "Epoch 83/100\n",
            "540000/540000 [==============================] - 320s 592us/step - loss: 0.0195 - acc: 0.9928 - val_loss: 0.0303 - val_acc: 0.9902\n",
            "Epoch 84/100\n",
            "540000/540000 [==============================] - 319s 590us/step - loss: 0.0214 - acc: 0.9925 - val_loss: 0.0174 - val_acc: 0.9936\n",
            "Epoch 85/100\n",
            "540000/540000 [==============================] - 313s 580us/step - loss: 0.0191 - acc: 0.9930 - val_loss: 0.0253 - val_acc: 0.9910\n",
            "Epoch 86/100\n",
            "540000/540000 [==============================] - 311s 576us/step - loss: 0.0225 - acc: 0.9924 - val_loss: 0.0422 - val_acc: 0.9868\n",
            "Epoch 87/100\n",
            "540000/540000 [==============================] - 315s 583us/step - loss: 0.0226 - acc: 0.9923 - val_loss: 0.0211 - val_acc: 0.9925\n",
            "Epoch 88/100\n",
            "540000/540000 [==============================] - 312s 578us/step - loss: 0.0205 - acc: 0.9928 - val_loss: 0.0195 - val_acc: 0.9928\n",
            "Epoch 89/100\n",
            "540000/540000 [==============================] - 313s 580us/step - loss: 0.0213 - acc: 0.9927 - val_loss: 0.0211 - val_acc: 0.9924\n",
            "Epoch 90/100\n",
            "540000/540000 [==============================] - 311s 577us/step - loss: 0.0187 - acc: 0.9931 - val_loss: 0.0461 - val_acc: 0.9867\n",
            "Epoch 91/100\n",
            "540000/540000 [==============================] - 314s 581us/step - loss: 0.0207 - acc: 0.9928 - val_loss: 0.0210 - val_acc: 0.9924\n",
            "Epoch 92/100\n",
            "540000/540000 [==============================] - 319s 591us/step - loss: 0.0187 - acc: 0.9932 - val_loss: 0.0194 - val_acc: 0.9928\n",
            "Epoch 93/100\n",
            "540000/540000 [==============================] - 318s 590us/step - loss: 0.0191 - acc: 0.9931 - val_loss: 0.0215 - val_acc: 0.9922\n",
            "Epoch 94/100\n",
            "540000/540000 [==============================] - 317s 587us/step - loss: 0.0198 - acc: 0.9930 - val_loss: 0.0268 - val_acc: 0.9906\n",
            "Epoch 00094: early stopping\n"
          ],
          "name": "stdout"
        }
      ]
    },
    {
      "cell_type": "code",
      "metadata": {
        "id": "UYHnECh3jy_I",
        "colab_type": "code",
        "outputId": "eef05e75-483f-418d-96f9-ab778bd5ea26",
        "colab": {
          "base_uri": "https://localhost:8080/"
        }
      },
      "source": [
        "# Select 10 samples from the validation set at random so we can visualize\n",
        "# errors.\n",
        "for i in range(10):\n",
        "    ind = np.random.randint(0, len(x_val))\n",
        "    rowx, rowy = x_val[np.array([ind])], y_val[np.array([ind])]\n",
        "    preds = model.predict_classes(rowx, verbose=0)\n",
        "    q = ctable.decode(rowx[0])\n",
        "    correct = ctable.decode(rowy[0])\n",
        "    guess = ctable.decode(preds[0], calc_argmax=False)\n",
        "    print('Q', q[::-1] if REVERSE else q, end=' ')\n",
        "    print('T', correct, end=' ')\n",
        "    if correct == guess:\n",
        "        print(colors.ok + '☑' + colors.close, end=' ')\n",
        "    else:\n",
        "        print(colors.fail + '☒' + colors.close, end=' ')\n",
        "    print(guess)"
      ],
      "execution_count": 0,
      "outputs": [
        {
          "output_type": "stream",
          "text": [
            "Q 842367+2              T 842369      \u001b[92m☑\u001b[0m 842369     \n",
            "Q 27+9188               T 9215        \u001b[92m☑\u001b[0m 9215       \n",
            "Q 480859+7828356        T 8309215     \u001b[92m☑\u001b[0m 8309215    \n",
            "Q 923756785+122270      T 923879055   \u001b[92m☑\u001b[0m 923879055  \n",
            "Q 7+6353                T 6360        \u001b[92m☑\u001b[0m 6360       \n",
            "Q 4357+2                T 4359        \u001b[92m☑\u001b[0m 4359       \n",
            "Q 820139+835524         T 1655663     \u001b[92m☑\u001b[0m 1655663    \n",
            "Q 3+447814558           T 447814561   \u001b[92m☑\u001b[0m 447814561  \n",
            "Q 586+49898007          T 49898593    \u001b[92m☑\u001b[0m 49898593   \n",
            "Q 1897+4726             T 6623        \u001b[92m☑\u001b[0m 6623       \n"
          ],
          "name": "stdout"
        }
      ]
    },
    {
      "cell_type": "code",
      "metadata": {
        "id": "XTms0rRLDl_Y",
        "colab_type": "code",
        "outputId": "0d3a0e35-51dd-4fe1-a252-10715169fba6",
        "colab": {
          "base_uri": "https://localhost:8080/"
        }
      },
      "source": [
        "from keras.utils import plot_model\n",
        "plot_model(model, show_shapes=True, expand_nested=True, to_file='model.png')"
      ],
      "execution_count": 0,
      "outputs": [
        {
          "output_type": "execute_result",
          "data": {
            "image/png": "[encoded data removed]",
            "text/plain": [
              "<IPython.core.display.Image object>"
            ]
          },
          "metadata": {
            "tags": []
          },
          "execution_count": 15
        }
      ]
    },
    {
      "cell_type": "code",
      "metadata": {
        "id": "-M8kC_aJW_tr",
        "colab_type": "code",
        "outputId": "ec5314b7-daec-41d5-f252-1478dc1a2c5a",
        "colab": {
          "base_uri": "https://localhost:8080/"
        }
      },
      "source": [
        "import matplotlib.pyplot as plt\n",
        "\n",
        "# Plot training & validation accuracy values\n",
        "plt.plot(history.history['acc'])\n",
        "plt.plot(history.history['val_acc'])\n",
        "plt.title('Model accuracy')\n",
        "plt.ylabel('Accuracy')\n",
        "plt.xlabel('Epoch')\n",
        "plt.legend(['Train', 'Test'], loc='upper left')\n",
        "plt.show()\n",
        "\n",
        "# Plot training & validation loss values\n",
        "plt.plot(history.history['loss'])\n",
        "plt.plot(history.history['val_loss'])\n",
        "plt.title('Model loss')\n",
        "plt.ylabel('Loss')\n",
        "plt.xlabel('Epoch')\n",
        "plt.legend(['Train', 'Test'], loc='upper left')\n",
        "plt.show()"
      ],
      "execution_count": 0,
      "outputs": [
        {
          "output_type": "display_data",
          "data": {
            "image/png": "[encoded data removed]",
            "text/plain": [
              "<Figure size 432x288 with 1 Axes>"
            ]
          },
          "metadata": {
            "tags": []
          }
        },
        {
          "output_type": "display_data",
          "data": {
            "image/png": "[encoded data removed]",
            "text/plain": [
              "<Figure size 432x288 with 1 Axes>"
            ]
          },
          "metadata": {
            "tags": []
          }
        }
      ]
    }
  ]
}