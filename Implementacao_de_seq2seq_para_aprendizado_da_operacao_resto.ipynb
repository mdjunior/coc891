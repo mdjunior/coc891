{
  "nbformat": 4,
  "nbformat_minor": 0,
  "metadata": {
    "colab": {
      "name": "Implementação de seq2seq para aprendizado da operação resto.ipynb",
      "provenance": [],
      "collapsed_sections": []
    },
    "kernelspec": {
      "name": "python3",
      "display_name": "Python 3"
    },
    "accelerator": "GPU"
  },
  "cells": [
    {
      "cell_type": "markdown",
      "metadata": {
        "id": "yedI8U612CjU",
        "colab_type": "text"
      },
      "source": [
        "# Implementação de seq2seq para aprendizado da operação resto\n",
        "\n",
        "Nessa implementação teremos o uso de redes neurais com memória onde:\n",
        "- Entrada: \"535%61\"\n",
        "- Saída esperada: \"47\"\n",
        "\n",
        "O padding é realizado utilizando espaços.\n",
        "\n",
        "\n",
        "Esse código é baseado em: https://github.com/keras-team/keras/blob/master/examples/addition_rnn.py\n"
      ]
    },
    {
      "cell_type": "code",
      "metadata": {
        "id": "5lNCvna12HyH",
        "colab_type": "code",
        "outputId": "ad296b2d-7389-4f97-8a36-70aa9c8fe811",
        "colab": {
          "base_uri": "https://localhost:8080/",
          "height": 80
        }
      },
      "source": [
        "# Imports\n",
        "from __future__ import print_function\n",
        "from keras.models import Sequential\n",
        "from keras import layers\n",
        "import numpy as np\n",
        "from six.moves import range"
      ],
      "execution_count": 1,
      "outputs": [
        {
          "output_type": "stream",
          "text": [
            "Using TensorFlow backend.\n"
          ],
          "name": "stderr"
        },
        {
          "output_type": "display_data",
          "data": {
            "text/html": [
              "<p style=\"color: red;\">\n",
              "The default version of TensorFlow in Colab will soon switch to TensorFlow 2.x.<br>\n",
              "We recommend you <a href=\"https://www.tensorflow.org/guide/migrate\" target=\"_blank\">upgrade</a> now \n",
              "or ensure your notebook will continue to use TensorFlow 1.x via the <code>%tensorflow_version 1.x</code> magic:\n",
              "<a href=\"https://colab.research.google.com/notebooks/tensorflow_version.ipynb\" target=\"_blank\">more info</a>.</p>\n"
            ],
            "text/plain": [
              "<IPython.core.display.HTML object>"
            ]
          },
          "metadata": {
            "tags": []
          }
        }
      ]
    },
    {
      "cell_type": "code",
      "metadata": {
        "id": "ENcIKVKU2flf",
        "colab_type": "code",
        "colab": {}
      },
      "source": [
        "# Parâmetros do modelo e do conjunto de dados. Altere esses valores!\n",
        "TRAINING_SIZE = 100000\n",
        "DIGITS = 3\n",
        "\n",
        "# REVERSE indica se a ordem dos operandos deve ser trocada\n",
        "REVERSE = True\n",
        "\n",
        "# O tamanho máximo da entrada é 'int % int' (e.g., '345%678').\n",
        "# Cada 'int' possui DIGITS como tamanho. Normalmente você não vai precisar alterar esse valor.\n",
        "MAXLEN = DIGITS + 1 + DIGITS\n",
        "\n",
        "# Caracteres utilizados. Normalmente você não vai precisar alterar esse valor.\n",
        "chars = '0123456789% '\n"
      ],
      "execution_count": 0,
      "outputs": []
    },
    {
      "cell_type": "code",
      "metadata": {
        "id": "wOs9eDfB2-mL",
        "colab_type": "code",
        "colab": {}
      },
      "source": [
        "# Configuração da rede neural.\n",
        "# Você pode editar o tipo dela (layers.RNN ou layers.GRU), assim como o número interno de camadas e células.\n",
        "# Você também pode alterar o número de questões em cada batch de treinamento.\n",
        "RNN = layers.LSTM\n",
        "HIDDEN_SIZE = 128\n",
        "BATCH_SIZE = 64\n",
        "LAYERS = 1\n",
        "\n",
        "# Você pode alterar o número de épocas de treinamento, além do nome do arquivo e a configuração de EarlyStopping.\n",
        "EPOCHS = 100\n",
        "FILEPATH = \"s2s-mod-{epoch:02d}-{val_acc:.2f}.hdf5\"\n",
        "PATIENCE = 5"
      ],
      "execution_count": 0,
      "outputs": []
    },
    {
      "cell_type": "code",
      "metadata": {
        "id": "h4qnABtj2Z0D",
        "colab_type": "code",
        "colab": {}
      },
      "source": [
        "# Classe para criar tabela de caracteres\n",
        "class CharacterTable(object):\n",
        "    \"\"\"Given a set of characters:\n",
        "    + Encode them to a one-hot integer representation\n",
        "    + Decode the one-hot or integer representation to their character output\n",
        "    + Decode a vector of probabilities to their character output\n",
        "    \"\"\"\n",
        "    def __init__(self, chars):\n",
        "        \"\"\"Initialize character table.\n",
        "        # Arguments\n",
        "            chars: Characters that can appear in the input.\n",
        "        \"\"\"\n",
        "        self.chars = sorted(set(chars))\n",
        "        self.char_indices = dict((c, i) for i, c in enumerate(self.chars))\n",
        "        self.indices_char = dict((i, c) for i, c in enumerate(self.chars))\n",
        "\n",
        "    def encode(self, C, num_rows):\n",
        "        \"\"\"One-hot encode given string C.\n",
        "        # Arguments\n",
        "            C: string, to be encoded.\n",
        "            num_rows: Number of rows in the returned one-hot encoding. This is\n",
        "                used to keep the # of rows for each data the same.\n",
        "        \"\"\"\n",
        "        x = np.zeros((num_rows, len(self.chars)))\n",
        "        for i, c in enumerate(C):\n",
        "            x[i, self.char_indices[c]] = 1\n",
        "        return x\n",
        "\n",
        "    def decode(self, x, calc_argmax=True):\n",
        "        \"\"\"Decode the given vector or 2D array to their character output.\n",
        "        # Arguments\n",
        "            x: A vector or a 2D array of probabilities or one-hot representations;\n",
        "                or a vector of character indices (used with `calc_argmax=False`).\n",
        "            calc_argmax: Whether to find the character index with maximum\n",
        "                probability, defaults to `True`.\n",
        "        \"\"\"\n",
        "        if calc_argmax:\n",
        "            x = x.argmax(axis=-1)\n",
        "        return ''.join(self.indices_char[x] for x in x)\n",
        "class colors:\n",
        "    ok = '\\033[92m'\n",
        "    fail = '\\033[91m'\n",
        "    close = '\\033[0m'"
      ],
      "execution_count": 0,
      "outputs": []
    },
    {
      "cell_type": "code",
      "metadata": {
        "id": "ySdmXz7O2o8t",
        "colab_type": "code",
        "outputId": "23df4c28-df40-48f4-f2fe-ddb4d8d20991",
        "colab": {
          "base_uri": "https://localhost:8080/",
          "height": 51
        }
      },
      "source": [
        "ctable = CharacterTable(chars)\n",
        "questions = []\n",
        "expected = []\n",
        "seen = set()\n",
        "\n",
        "# Os dados são gerados, onde chamamos os operandos (a%b) de 'questão' e o resultado da operação de 'resposta'.\n",
        "#   Repare que quando o resultado da operação resto é igual a um dos operandos, esse conjunto de dados é descartado.\n",
        "print('Generating data...')\n",
        "while len(questions) < TRAINING_SIZE:\n",
        "  \n",
        "    # Gera números aleatórios.\n",
        "    f = lambda: int(''.join(np.random.choice(list('0123456789'))\n",
        "                    for i in range(np.random.randint(1, DIGITS + 1))))\n",
        "    a, b = f(), f()\n",
        "    \n",
        "    # Verifica se esses valores já existem no conjunto de dados.\n",
        "    key = tuple(sorted((a, b)))\n",
        "    if key in seen:\n",
        "        continue\n",
        "    seen.add(key)\n",
        "\n",
        "    # Realiza o padding\n",
        "    q = '{}%{}'.format(a, b)\n",
        "    query = q + ' ' * (MAXLEN - len(q))\n",
        "    \n",
        "    # Calcula a resposta.\n",
        "    try:\n",
        "      ans = a % b\n",
        "    except:\n",
        "      ans = 0\n",
        "\n",
        "    # Verifica se a resposta é igual a algum dos operandos.\n",
        "    if (ans == a) or (ans == b):\n",
        "      continue\n",
        "    \n",
        "    # Evita questões com respostas muito pequenas\n",
        "    ans_str = str(ans)\n",
        "    if len(ans_str) < 2:\n",
        "      continue\n",
        "\n",
        "    # Realiza o padding da resposta de modo que ela sempre tenha o mesmo tamanho (DIGITS + 1)\n",
        "    ans_str += ' ' * (DIGITS + 1 - len(ans_str))\n",
        "    \n",
        "    if REVERSE:\n",
        "        # Inverte a questão (ex. '12%345  ' -> '  543%21'. Repare no espaço utilizado.).\n",
        "        query = query[::-1]\n",
        "        \n",
        "    # Salva a questão no conjunto de dados\n",
        "    questions.append(query)\n",
        "    expected.append(ans_str)\n",
        "\n",
        "print('Total addition questions:', len(questions))"
      ],
      "execution_count": 5,
      "outputs": [
        {
          "output_type": "stream",
          "text": [
            "Generating data...\n",
            "Total addition questions: 100000\n"
          ],
          "name": "stdout"
        }
      ]
    },
    {
      "cell_type": "code",
      "metadata": {
        "id": "Xlfr_aaQ2tm0",
        "colab_type": "code",
        "outputId": "efc67c92-bafc-4441-917f-3bd50f89e53e",
        "colab": {
          "base_uri": "https://localhost:8080/",
          "height": 34
        }
      },
      "source": [
        "print('Vetorização...')\n",
        "x = np.zeros((len(questions), MAXLEN, len(chars)), dtype=np.bool)\n",
        "y = np.zeros((len(questions), DIGITS + 1, len(chars)), dtype=np.bool)\n",
        "for i, sentence in enumerate(questions):\n",
        "    x[i] = ctable.encode(sentence, MAXLEN)\n",
        "for i, sentence in enumerate(expected):\n",
        "    y[i] = ctable.encode(sentence, DIGITS + 1)"
      ],
      "execution_count": 6,
      "outputs": [
        {
          "output_type": "stream",
          "text": [
            "Vetorização...\n"
          ],
          "name": "stdout"
        }
      ]
    },
    {
      "cell_type": "code",
      "metadata": {
        "id": "0UjUVQKB2yTf",
        "colab_type": "code",
        "colab": {}
      },
      "source": [
        "# Shuffle (x, y) in unison as the later parts of x will almost all be larger\n",
        "# digits.\n",
        "indices = np.arange(len(y))\n",
        "np.random.shuffle(indices)\n",
        "x = x[indices]\n",
        "y = y[indices]"
      ],
      "execution_count": 0,
      "outputs": []
    },
    {
      "cell_type": "code",
      "metadata": {
        "id": "XccIQiJZ21c8",
        "colab_type": "code",
        "colab": {}
      },
      "source": [
        "# Separa como conjunto de validação 10% dos dados gerados\n",
        "split_at = len(x) - len(x) // 10\n",
        "(x_train, x_val) = x[:split_at], x[split_at:]\n",
        "(y_train, y_val) = y[:split_at], y[split_at:]"
      ],
      "execution_count": 0,
      "outputs": []
    },
    {
      "cell_type": "code",
      "metadata": {
        "id": "r2_ajf61241k",
        "colab_type": "code",
        "outputId": "9278af58-f2f1-4079-e608-a9ddfcec2970",
        "colab": {
          "base_uri": "https://localhost:8080/",
          "height": 68
        }
      },
      "source": [
        "print('Dados de treinamento:')\n",
        "print(x_train.shape)\n",
        "print(y_train.shape)\n"
      ],
      "execution_count": 9,
      "outputs": [
        {
          "output_type": "stream",
          "text": [
            "Dados de treinamento:\n",
            "(90000, 7, 12)\n",
            "(90000, 4, 12)\n"
          ],
          "name": "stdout"
        }
      ]
    },
    {
      "cell_type": "code",
      "metadata": {
        "id": "pBCFH7am270z",
        "colab_type": "code",
        "outputId": "a2572d92-792c-4868-8061-474370180fad",
        "colab": {
          "base_uri": "https://localhost:8080/",
          "height": 68
        }
      },
      "source": [
        "print('Dados de validação:')\n",
        "print(x_val.shape)\n",
        "print(y_val.shape)"
      ],
      "execution_count": 10,
      "outputs": [
        {
          "output_type": "stream",
          "text": [
            "Dados de validação:\n",
            "(10000, 7, 12)\n",
            "(10000, 4, 12)\n"
          ],
          "name": "stdout"
        }
      ]
    },
    {
      "cell_type": "code",
      "metadata": {
        "id": "1f_jFTg13Dy1",
        "colab_type": "code",
        "outputId": "c8073e6c-f918-4bb7-dc55-3c817437d024",
        "colab": {
          "base_uri": "https://localhost:8080/",
          "height": 306
        }
      },
      "source": [
        "print('Contruindo modelo...')\n",
        "model = Sequential()\n",
        "\n",
        "# \"Encode\" the input sequence using an RNN, producing an output of HIDDEN_SIZE.\n",
        "# Note: In a situation where your input sequences have a variable length,\n",
        "# use input_shape=(None, num_feature).\n",
        "model.add(RNN(HIDDEN_SIZE, input_shape=(MAXLEN, len(chars))))\n",
        "\n",
        "# As the decoder RNN's input, repeatedly provide with the last output of\n",
        "# RNN for each time step. Repeat 'DIGITS + 1' times as that's the maximum\n",
        "# length of output, e.g., when DIGITS=3, max output is 999+999=1998.\n",
        "model.add(layers.RepeatVector(DIGITS + 1))\n",
        "\n",
        "# The decoder RNN could be multiple layers stacked or a single layer.\n",
        "for _ in range(LAYERS):\n",
        "\n",
        "  # By setting return_sequences to True, return not only the last output but\n",
        "    # all the outputs so far in the form of (num_samples, timesteps,\n",
        "    # output_dim). This is necessary as TimeDistributed in the below expects\n",
        "    # the first dimension to be the timesteps.\n",
        "    model.add(RNN(HIDDEN_SIZE, return_sequences=True))\n",
        "\n",
        "# Apply a dense layer to the every temporal slice of an input. For each of step\n",
        "# of the output sequence, decide which character should be chosen.\n",
        "model.add(layers.TimeDistributed(layers.Dense(len(chars), activation='softmax')))\n",
        "model.compile(loss='categorical_crossentropy',\n",
        "              optimizer='adam',\n",
        "              metrics=['accuracy'])\n",
        "model.summary()"
      ],
      "execution_count": 13,
      "outputs": [
        {
          "output_type": "stream",
          "text": [
            "Contruindo modelo...\n",
            "Model: \"sequential_2\"\n",
            "_________________________________________________________________\n",
            "Layer (type)                 Output Shape              Param #   \n",
            "=================================================================\n",
            "lstm_3 (LSTM)                (None, 128)               72192     \n",
            "_________________________________________________________________\n",
            "repeat_vector_2 (RepeatVecto (None, 4, 128)            0         \n",
            "_________________________________________________________________\n",
            "lstm_4 (LSTM)                (None, 4, 128)            131584    \n",
            "_________________________________________________________________\n",
            "time_distributed_2 (TimeDist (None, 4, 12)             1548      \n",
            "=================================================================\n",
            "Total params: 205,324\n",
            "Trainable params: 205,324\n",
            "Non-trainable params: 0\n",
            "_________________________________________________________________\n"
          ],
          "name": "stdout"
        }
      ]
    },
    {
      "cell_type": "code",
      "metadata": {
        "id": "XTms0rRLDl_Y",
        "colab_type": "code",
        "colab": {
          "base_uri": "https://localhost:8080/",
          "height": 533
        },
        "outputId": "87ad10c5-fd7c-4b05-941c-3d2276e5b4d1"
      },
      "source": [
        "# Imprime o desenho do modelo utilizado na rede neural.\n",
        "from keras.utils import plot_model\n",
        "plot_model(model, show_shapes=True, expand_nested=True, to_file='model.png')"
      ],
      "execution_count": 14,
      "outputs": [
        {
          "output_type": "execute_result",
          "data": {
            "image/png": "[encoded data removed]",
            "text/plain": [
              "<IPython.core.display.Image object>"
            ]
          },
          "metadata": {
            "tags": []
          },
          "execution_count": 14
        }
      ]
    },
    {
      "cell_type": "code",
      "metadata": {
        "id": "MXjlrKes3Syp",
        "colab_type": "code",
        "outputId": "ae0e25a7-b352-418a-db1b-b691a7080e63",
        "colab": {
          "base_uri": "https://localhost:8080/",
          "height": 476
        }
      },
      "source": [
        "print('Treinando modelo...')\n",
        "\n",
        "# Train the model each generation and show predictions against the validation\n",
        "# dataset.\n",
        "\n",
        "from keras.callbacks import EarlyStopping\n",
        "from keras.callbacks import ModelCheckpoint\n",
        "\n",
        "early_stop = EarlyStopping(monitor='val_loss', patience=PATIENCE, verbose=1)\n",
        "\n",
        "# Configuração do nome do arquivo para checkpoints\n",
        "checkpoint = ModelCheckpoint(FILEPATH, monitor='val_acc', verbose=1, save_best_only=True, mode='max')\n",
        "\n",
        "# Treinamento de fato.\n",
        "history = model.fit(\n",
        "            x_train,\n",
        "            y_train,\n",
        "            batch_size=BATCH_SIZE,\n",
        "            epochs=EPOCHS,\n",
        "            validation_data=(x_val, y_val),\n",
        "            callbacks=[early_stop,checkpoint]\n",
        ")"
      ],
      "execution_count": 0,
      "outputs": [
        {
          "output_type": "stream",
          "text": [
            "Treinando modelo...\n",
            "WARNING:tensorflow:From /usr/local/lib/python3.6/dist-packages/tensorflow_core/python/ops/math_grad.py:1424: where (from tensorflow.python.ops.array_ops) is deprecated and will be removed in a future version.\n",
            "Instructions for updating:\n",
            "Use tf.where in 2.0, which has the same broadcast rule as np.where\n",
            "WARNING:tensorflow:From /usr/local/lib/python3.6/dist-packages/keras/backend/tensorflow_backend.py:1033: The name tf.assign_add is deprecated. Please use tf.compat.v1.assign_add instead.\n",
            "\n",
            "WARNING:tensorflow:From /usr/local/lib/python3.6/dist-packages/keras/backend/tensorflow_backend.py:1020: The name tf.assign is deprecated. Please use tf.compat.v1.assign instead.\n",
            "\n",
            "WARNING:tensorflow:From /usr/local/lib/python3.6/dist-packages/keras/backend/tensorflow_backend.py:3005: The name tf.Session is deprecated. Please use tf.compat.v1.Session instead.\n",
            "\n",
            "Train on 90000 samples, validate on 10000 samples\n",
            "Epoch 1/100\n",
            "WARNING:tensorflow:From /usr/local/lib/python3.6/dist-packages/keras/backend/tensorflow_backend.py:190: The name tf.get_default_session is deprecated. Please use tf.compat.v1.get_default_session instead.\n",
            "\n",
            "WARNING:tensorflow:From /usr/local/lib/python3.6/dist-packages/keras/backend/tensorflow_backend.py:197: The name tf.ConfigProto is deprecated. Please use tf.compat.v1.ConfigProto instead.\n",
            "\n",
            "WARNING:tensorflow:From /usr/local/lib/python3.6/dist-packages/keras/backend/tensorflow_backend.py:207: The name tf.global_variables is deprecated. Please use tf.compat.v1.global_variables instead.\n",
            "\n",
            "WARNING:tensorflow:From /usr/local/lib/python3.6/dist-packages/keras/backend/tensorflow_backend.py:216: The name tf.is_variable_initialized is deprecated. Please use tf.compat.v1.is_variable_initialized instead.\n",
            "\n",
            "WARNING:tensorflow:From /usr/local/lib/python3.6/dist-packages/keras/backend/tensorflow_backend.py:223: The name tf.variables_initializer is deprecated. Please use tf.compat.v1.variables_initializer instead.\n",
            "\n",
            "90000/90000 [==============================] - 51s 571us/step - loss: 1.4078 - acc: 0.5078 - val_loss: 1.3685 - val_acc: 0.5148\n",
            "\n",
            "Epoch 00001: val_acc improved from -inf to 0.51482, saving model to s2s-mod-01-0.51.hdf5\n",
            "Epoch 2/100\n",
            "24960/90000 [=======>......................] - ETA: 32s - loss: 1.3519 - acc: 0.5184"
          ],
          "name": "stdout"
        }
      ]
    },
    {
      "cell_type": "code",
      "metadata": {
        "id": "x_ufTYVF37Pi",
        "colab_type": "code",
        "colab": {}
      },
      "source": [
        "print(\"Imprimindo 100 exemplos aleatórios de acertos/erros da rede neural...\")\n",
        "\n",
        "for i in range(100):\n",
        "    ind = np.random.randint(0, len(x_val))\n",
        "    rowx, rowy = x_val[np.array([ind])], y_val[np.array([ind])]\n",
        "    preds = model.predict_classes(rowx, verbose=0)\n",
        "    q = ctable.decode(rowx[0])\n",
        "    correct = ctable.decode(rowy[0])\n",
        "    guess = ctable.decode(preds[0], calc_argmax=False)\n",
        "    \n",
        "    if correct == guess:\n",
        "        print('Q', q[::-1] if REVERSE else q, end=' ')\n",
        "        print('T', correct, end=' ')\n",
        "        print(colors.ok + '☑' + colors.close, end=' ')\n",
        "        print(guess)\n",
        "    else:\n",
        "        print(colors.fail + '☒' + colors.close, end=' ')\n",
        "    "
      ],
      "execution_count": 0,
      "outputs": []
    },
    {
      "cell_type": "code",
      "metadata": {
        "id": "-M8kC_aJW_tr",
        "colab_type": "code",
        "colab": {}
      },
      "source": [
        "# Gera os gráficos com o desempenho da rede relaticos a acurácia e perda, respectivamente.\n",
        "\n",
        "import matplotlib.pyplot as plt\n",
        "\n",
        "\n",
        "plt.plot(history.history['acc'])\n",
        "plt.plot(history.history['val_acc'])\n",
        "plt.title('Model accuracy')\n",
        "plt.ylabel('Accuracy')\n",
        "plt.xlabel('Epoch')\n",
        "plt.legend(['Train', 'Test'], loc='upper left')\n",
        "plt.show()\n",
        "\n",
        "plt.plot(history.history['loss'])\n",
        "plt.plot(history.history['val_loss'])\n",
        "plt.title('Model loss')\n",
        "plt.ylabel('Loss')\n",
        "plt.xlabel('Epoch')\n",
        "plt.legend(['Train', 'Test'], loc='upper left')\n",
        "plt.show()"
      ],
      "execution_count": 0,
      "outputs": []
    }
  ]
}